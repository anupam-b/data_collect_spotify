{
 "cells": [
  {
   "cell_type": "code",
   "execution_count": 1,
   "metadata": {},
   "outputs": [],
   "source": [
    "import spotipy\n",
    "from spotipy.oauth2 import SpotifyClientCredentials\n",
    "import pandas as pd\n",
    "import json"
   ]
  },
  {
   "cell_type": "code",
   "execution_count": 2,
   "metadata": {},
   "outputs": [],
   "source": [
    "credentials = json.load(open('credentials.json'))\n",
    "CLIENT_ID = credentials['client_id']\n",
    "CLIENT_SECRET = credentials['client_secret']"
   ]
  },
  {
   "cell_type": "code",
   "execution_count": 3,
   "metadata": {},
   "outputs": [],
   "source": [
    "client_credentials_manager = SpotifyClientCredentials(client_id=CLIENT_ID,client_secret=CLIENT_SECRET)\n",
    "sp = spotipy.Spotify(client_credentials_manager=client_credentials_manager)"
   ]
  },
  {
   "cell_type": "code",
   "execution_count": 4,
   "metadata": {},
   "outputs": [],
   "source": [
    "playlists = json.load(open('playlists.json'))\n",
    "user_list = []\n",
    "id_list = []\n",
    "for playlist_index in range(len(playlists)):\n",
    "    user_list.append(playlists[playlist_index]['uri'].split(':')[2])\n",
    "    id_list.append(playlists[playlist_index]['uri'].split(':')[4])"
   ]
  },
  {
   "cell_type": "code",
   "execution_count": 5,
   "metadata": {},
   "outputs": [
    {
     "name": "stdout",
     "output_type": "stream",
     "text": [
      "['3WWv2APRYe9jR8L1YnK1Up', '5S8SJdl1BDc0ugpkEvFsIL', '0mbJaNSWndLx2yQ1CoENUv', '3WWv2APRYe9jR8L1YnK1Up']\n"
     ]
    }
   ],
   "source": [
    "print(id_list)"
   ]
  },
  {
   "cell_type": "code",
   "execution_count": 5,
   "metadata": {},
   "outputs": [],
   "source": [
    "def get_playlist_tracks(username,playlist_id):\n",
    "    results = sp.user_playlist_tracks(username,playlist_id)\n",
    "    tracks = results['items']\n",
    "    while results['next']:\n",
    "        results = sp.next(results)\n",
    "        tracks.extend(results['items'])\n",
    "    return tracks"
   ]
  },
  {
   "cell_type": "code",
   "execution_count": 6,
   "metadata": {},
   "outputs": [],
   "source": [
    "def analyze_playlist(creator, playlist_id):\n",
    "    \n",
    "    # Create empty dataframe\n",
    "    playlist_features_list = [\"artist\", \"album\", \"track_name\", \"track_id\", \n",
    "                             \"danceability\", \"energy\", \"key\", \"loudness\", \"mode\", \"speechiness\",\n",
    "                             \"instrumentalness\", \"liveness\", \"valence\", \"tempo\", \"duration_ms\", \"time_signature\"]\n",
    "    playlist_df = pd.DataFrame(columns = playlist_features_list)\n",
    "    \n",
    "    # Create empty dict\n",
    "    playlist_features = {}\n",
    "    \n",
    "    # Loop through every track in the playlist, extract features and append the features to the playlist df\n",
    "    playlist = get_playlist_tracks(creator, playlist_id)\n",
    "    for track in playlist:\n",
    "        # Get metadata\n",
    "        playlist_features[\"artist\"] = track[\"track\"][\"album\"][\"artists\"][0][\"name\"]\n",
    "        playlist_features[\"album\"] = track[\"track\"][\"album\"][\"name\"]\n",
    "        playlist_features[\"track_name\"] = track[\"track\"][\"name\"]\n",
    "        playlist_features[\"track_id\"] = track[\"track\"][\"id\"]\n",
    "        # Get audio features\n",
    "        audio_features = sp.audio_features(playlist_features[\"track_id\"])[0]\n",
    "        for feature in playlist_features_list[4:]:\n",
    "            playlist_features[feature] = audio_features[feature]\n",
    "        \n",
    "        # Concat the dfs\n",
    "        track_df = pd.DataFrame(playlist_features, index = [0])\n",
    "        playlist_df = pd.concat([playlist_df, track_df], ignore_index = True)\n",
    "        \n",
    "    return playlist_df"
   ]
  },
  {
   "cell_type": "code",
   "execution_count": 7,
   "metadata": {},
   "outputs": [],
   "source": [
    "playlist_df = analyze_playlist(playlist_creator, playlist_id)"
   ]
  },
  {
   "cell_type": "code",
   "execution_count": 9,
   "metadata": {},
   "outputs": [
    {
     "name": "stdout",
     "output_type": "stream",
     "text": [
      "<class 'pandas.core.frame.DataFrame'>\n",
      "RangeIndex: 146 entries, 0 to 145\n",
      "Data columns (total 16 columns):\n",
      " #   Column            Non-Null Count  Dtype  \n",
      "---  ------            --------------  -----  \n",
      " 0   artist            146 non-null    object \n",
      " 1   album             146 non-null    object \n",
      " 2   track_name        146 non-null    object \n",
      " 3   track_id          146 non-null    object \n",
      " 4   danceability      146 non-null    float64\n",
      " 5   energy            146 non-null    float64\n",
      " 6   key               146 non-null    object \n",
      " 7   loudness          146 non-null    float64\n",
      " 8   mode              146 non-null    object \n",
      " 9   speechiness       146 non-null    float64\n",
      " 10  instrumentalness  146 non-null    object \n",
      " 11  liveness          146 non-null    float64\n",
      " 12  valence           146 non-null    float64\n",
      " 13  tempo             146 non-null    float64\n",
      " 14  duration_ms       146 non-null    object \n",
      " 15  time_signature    146 non-null    object \n",
      "dtypes: float64(7), object(9)\n",
      "memory usage: 18.4+ KB\n"
     ]
    }
   ],
   "source": [
    "playlist_df.info()"
   ]
  },
  {
   "cell_type": "code",
   "execution_count": 10,
   "metadata": {},
   "outputs": [],
   "source": [
    "playlist_df.to_csv('file1.csv')"
   ]
  },
  {
   "cell_type": "code",
   "execution_count": 12,
   "metadata": {},
   "outputs": [
    {
     "data": {
      "text/html": [
       "<div>\n",
       "<style scoped>\n",
       "    .dataframe tbody tr th:only-of-type {\n",
       "        vertical-align: middle;\n",
       "    }\n",
       "\n",
       "    .dataframe tbody tr th {\n",
       "        vertical-align: top;\n",
       "    }\n",
       "\n",
       "    .dataframe thead th {\n",
       "        text-align: right;\n",
       "    }\n",
       "</style>\n",
       "<table border=\"1\" class=\"dataframe\">\n",
       "  <thead>\n",
       "    <tr style=\"text-align: right;\">\n",
       "      <th></th>\n",
       "      <th>artist</th>\n",
       "      <th>album</th>\n",
       "      <th>track_name</th>\n",
       "      <th>track_id</th>\n",
       "      <th>danceability</th>\n",
       "      <th>energy</th>\n",
       "      <th>key</th>\n",
       "      <th>loudness</th>\n",
       "      <th>mode</th>\n",
       "      <th>speechiness</th>\n",
       "      <th>instrumentalness</th>\n",
       "      <th>liveness</th>\n",
       "      <th>valence</th>\n",
       "      <th>tempo</th>\n",
       "      <th>duration_ms</th>\n",
       "      <th>time_signature</th>\n",
       "    </tr>\n",
       "  </thead>\n",
       "  <tbody>\n",
       "    <tr>\n",
       "      <th>141</th>\n",
       "      <td>Pritam</td>\n",
       "      <td>Desi Boyz</td>\n",
       "      <td>Make Some Noise For The Desi Boyz</td>\n",
       "      <td>71s7tZo8OGlN3VXyURWLUr</td>\n",
       "      <td>0.692</td>\n",
       "      <td>0.954</td>\n",
       "      <td>2</td>\n",
       "      <td>-3.930</td>\n",
       "      <td>0</td>\n",
       "      <td>0.0915</td>\n",
       "      <td>0</td>\n",
       "      <td>0.151</td>\n",
       "      <td>0.890</td>\n",
       "      <td>141.980</td>\n",
       "      <td>244068</td>\n",
       "      <td>4</td>\n",
       "    </tr>\n",
       "    <tr>\n",
       "      <th>142</th>\n",
       "      <td>Shankar-Ehsaan-Loy</td>\n",
       "      <td>Bunty Aur Babli (Original)</td>\n",
       "      <td>Kajra Re</td>\n",
       "      <td>72HdutlIHBZJ7WT1xVAAZT</td>\n",
       "      <td>0.484</td>\n",
       "      <td>0.898</td>\n",
       "      <td>0</td>\n",
       "      <td>-4.132</td>\n",
       "      <td>1</td>\n",
       "      <td>0.1640</td>\n",
       "      <td>0</td>\n",
       "      <td>0.091</td>\n",
       "      <td>0.680</td>\n",
       "      <td>91.975</td>\n",
       "      <td>482586</td>\n",
       "      <td>4</td>\n",
       "    </tr>\n",
       "    <tr>\n",
       "      <th>143</th>\n",
       "      <td>Shreya Ghoshal</td>\n",
       "      <td>Best Of Shreya Ghoshal</td>\n",
       "      <td>Ye Ishq Hai (From \"Jab We Met\")</td>\n",
       "      <td>1UHVj0W8BRn08AXvWcv8i6</td>\n",
       "      <td>0.823</td>\n",
       "      <td>0.637</td>\n",
       "      <td>5</td>\n",
       "      <td>-7.127</td>\n",
       "      <td>0</td>\n",
       "      <td>0.1590</td>\n",
       "      <td>2.15e-06</td>\n",
       "      <td>0.255</td>\n",
       "      <td>0.873</td>\n",
       "      <td>118.043</td>\n",
       "      <td>280974</td>\n",
       "      <td>4</td>\n",
       "    </tr>\n",
       "    <tr>\n",
       "      <th>144</th>\n",
       "      <td>Dev Negi</td>\n",
       "      <td>Psycho - Single</td>\n",
       "      <td>Psycho</td>\n",
       "      <td>3MiLB4Bbm0nqFuKv7JmJuO</td>\n",
       "      <td>0.750</td>\n",
       "      <td>0.655</td>\n",
       "      <td>11</td>\n",
       "      <td>-6.740</td>\n",
       "      <td>1</td>\n",
       "      <td>0.0461</td>\n",
       "      <td>0</td>\n",
       "      <td>0.179</td>\n",
       "      <td>0.707</td>\n",
       "      <td>101.082</td>\n",
       "      <td>196375</td>\n",
       "      <td>4</td>\n",
       "    </tr>\n",
       "    <tr>\n",
       "      <th>145</th>\n",
       "      <td>Sonu Nigam</td>\n",
       "      <td>Love Anthems - Sonu Nigam</td>\n",
       "      <td>Nagada Nagada (From \"Jab We Met\")</td>\n",
       "      <td>2zUBKkcSC6XsE2YVUYdZK5</td>\n",
       "      <td>0.757</td>\n",
       "      <td>0.942</td>\n",
       "      <td>9</td>\n",
       "      <td>-4.130</td>\n",
       "      <td>0</td>\n",
       "      <td>0.0461</td>\n",
       "      <td>0.0079</td>\n",
       "      <td>0.507</td>\n",
       "      <td>0.727</td>\n",
       "      <td>120.006</td>\n",
       "      <td>228469</td>\n",
       "      <td>4</td>\n",
       "    </tr>\n",
       "  </tbody>\n",
       "</table>\n",
       "</div>"
      ],
      "text/plain": [
       "                 artist                       album  \\\n",
       "141              Pritam                   Desi Boyz   \n",
       "142  Shankar-Ehsaan-Loy  Bunty Aur Babli (Original)   \n",
       "143      Shreya Ghoshal      Best Of Shreya Ghoshal   \n",
       "144            Dev Negi             Psycho - Single   \n",
       "145          Sonu Nigam   Love Anthems - Sonu Nigam   \n",
       "\n",
       "                            track_name                track_id  danceability  \\\n",
       "141  Make Some Noise For The Desi Boyz  71s7tZo8OGlN3VXyURWLUr         0.692   \n",
       "142                           Kajra Re  72HdutlIHBZJ7WT1xVAAZT         0.484   \n",
       "143    Ye Ishq Hai (From \"Jab We Met\")  1UHVj0W8BRn08AXvWcv8i6         0.823   \n",
       "144                             Psycho  3MiLB4Bbm0nqFuKv7JmJuO         0.750   \n",
       "145  Nagada Nagada (From \"Jab We Met\")  2zUBKkcSC6XsE2YVUYdZK5         0.757   \n",
       "\n",
       "     energy key  loudness mode  speechiness instrumentalness  liveness  \\\n",
       "141   0.954   2    -3.930    0       0.0915                0     0.151   \n",
       "142   0.898   0    -4.132    1       0.1640                0     0.091   \n",
       "143   0.637   5    -7.127    0       0.1590         2.15e-06     0.255   \n",
       "144   0.655  11    -6.740    1       0.0461                0     0.179   \n",
       "145   0.942   9    -4.130    0       0.0461           0.0079     0.507   \n",
       "\n",
       "     valence    tempo duration_ms time_signature  \n",
       "141    0.890  141.980      244068              4  \n",
       "142    0.680   91.975      482586              4  \n",
       "143    0.873  118.043      280974              4  \n",
       "144    0.707  101.082      196375              4  \n",
       "145    0.727  120.006      228469              4  "
      ]
     },
     "execution_count": 12,
     "metadata": {},
     "output_type": "execute_result"
    }
   ],
   "source": [
    "playlist_df.tail()"
   ]
  },
  {
   "cell_type": "code",
   "execution_count": null,
   "metadata": {},
   "outputs": [],
   "source": []
  }
 ],
 "metadata": {
  "kernelspec": {
   "display_name": "Python 3",
   "language": "python",
   "name": "python3"
  },
  "language_info": {
   "codemirror_mode": {
    "name": "ipython",
    "version": 3
   },
   "file_extension": ".py",
   "mimetype": "text/x-python",
   "name": "python",
   "nbconvert_exporter": "python",
   "pygments_lexer": "ipython3",
   "version": "3.7.6"
  }
 },
 "nbformat": 4,
 "nbformat_minor": 4
}
